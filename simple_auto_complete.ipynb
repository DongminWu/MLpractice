{
  "nbformat": 4,
  "nbformat_minor": 0,
  "metadata": {
    "colab": {
      "name": "simple_auto_complete.ipynb",
      "version": "0.3.2",
      "provenance": [],
      "collapsed_sections": []
    },
    "kernelspec": {
      "name": "python3",
      "display_name": "Python 3"
    },
    "accelerator": "GPU"
  },
  "cells": [
    {
      "cell_type": "markdown",
      "metadata": {
        "id": "view-in-github",
        "colab_type": "text"
      },
      "source": [
        "[View in Colaboratory](https://colab.research.google.com/github/DongminWu/MLpractice/blob/master/simple_auto_complete.ipynb)"
      ]
    },
    {
      "metadata": {
        "id": "rxvCZaR5Och8",
        "colab_type": "code",
        "colab": {
          "base_uri": "https://localhost:8080/",
          "height": 34
        },
        "outputId": "2f179e19-1c51-4b61-a90e-63775ef50370"
      },
      "cell_type": "code",
      "source": [
        "import numpy as np\n",
        "import pandas as pd\n",
        "from keras.models import Sequential\n",
        "from keras.layers import Dense, Activation, LSTM\n",
        "\n",
        "import codecs\n",
        "import matplotlib.pyplot as plt\n",
        "%matplotlib inline\n",
        "\n",
        "\n",
        "np.random.seed(42)"
      ],
      "execution_count": 1,
      "outputs": [
        {
          "output_type": "stream",
          "text": [
            "Using TensorFlow backend.\n"
          ],
          "name": "stderr"
        }
      ]
    },
    {
      "metadata": {
        "id": "4Nv6Ra6pOqR9",
        "colab_type": "code",
        "colab": {}
      },
      "cell_type": "code",
      "source": [
        "dataX = [\n",
        "    \"中国工商银行\",\n",
        "\"中国农业银行\",\n",
        "\"中国银行\",\n",
        "\"中国建设银行\",\n",
        "\"交通银行\",\n",
        "\"中国邮政储蓄银行\",\n",
        "\"中国光大银行\",\n",
        "\"中国民生银行\",\n",
        "\"招商银行\",\n",
        "\"中信银行\",\n",
        "\"华夏银行\",\n",
        "\"浦发银行\",\n",
        "\"平安银行\",\n",
        "\"广发银行\",\n",
        "\"兴业银行\",\n",
        "\"浙商银行\",\n",
        "\"渤海银行\",\n",
        "\"恒丰银行\",\n",
        "\"企业银行\",\n",
        "\"东方汇理银行\",\n",
        "\"摩根大通银行\",\n",
        "\"友利银行\",\n",
        "\"韩亚银行\",\n",
        "\"德意志银行\",\n",
        "\"新韩银行\",\n",
        "\"法国兴业银行\",\n",
        "\"蒙特利尔银行\",\n",
        "\"瑞士银行\",\n",
        "\"国民银行\",\n",
        "\"汇丰中国\",\n",
        "\"渣打中国\",\n",
        "\"花旗中国\",\n",
        "\"东亚中国\",\n",
        "\"瑞穗中国\",\n",
        "\"恒生中国\",\n",
        "\"星展中国\",\n",
        "\"三菱日联中国\",\n",
        "\"南商中国\",\n",
        "\"大华中国\",\n",
        "\"法国巴黎银行\",\n",
        "\"三井中国\",\n",
        "\"汇理中国\",\n",
        "\"盘谷中国\",\n",
        "\"澳新中国\",\n",
        "\"富邦华一银行\",\n",
        "\"华美中国\",\n",
        "\"正信银行\",\n",
        "\"浦发硅谷银行\",\n",
        "\"首都银行\",\n",
        "\"摩根士丹利国际银行\",\n",
        "\"新联商业银行\",\n",
        "\"华商银行\",\n",
        "\"华侨永亨银行\",\n",
        "\"大新银行\",\n",
        "\"中信银行国际\",    \n",
        "]\n",
        "\n",
        "dataY = np.arange(len(dataX))\n",
        "\n",
        "\n"
      ],
      "execution_count": 0,
      "outputs": []
    },
    {
      "metadata": {
        "id": "hYQe0VqwX46c",
        "colab_type": "code",
        "colab": {}
      },
      "cell_type": "code",
      "source": [
        ""
      ],
      "execution_count": 0,
      "outputs": []
    },
    {
      "metadata": {
        "id": "1W01IQk_T9Kr",
        "colab_type": "code",
        "colab": {
          "base_uri": "https://localhost:8080/",
          "height": 119
        },
        "outputId": "a6c87a77-a800-4915-e04e-5f76251c1021"
      },
      "cell_type": "code",
      "source": [
        "#word embedding\n",
        "\n",
        "all_words = []\n",
        "all_samples = []\n",
        "max_len = 0\n",
        "\n",
        "for item in dataX:\n",
        "  list_item = list(item)\n",
        "  all_samples.append(list_item)\n",
        "  max_len = len(list_item) if max_len < len(list_item) else max_len\n",
        "  for e in list_item:\n",
        "    all_words.append(e)\n",
        "\n",
        "all_words = np.array(all_words)\n",
        "uni_words = np.unique(all_words)\n",
        "\n",
        "print('words:', uni_words)\n",
        "print('max length:', max_len)"
      ],
      "execution_count": 3,
      "outputs": [
        {
          "output_type": "stream",
          "text": [
            "words: ['一' '三' '业' '东' '中' '丰' '丹' '井' '亚' '交' '亨' '企' '侨' '信' '储' '光' '兴' '农'\n",
            " '利' '华' '南' '友' '发' '商' '国' '士' '夏' '大' '安' '富' '尔' '展' '工' '巴' '平' '广'\n",
            " '建' '德' '志' '恒' '意' '打' '招' '摩' '政' '新' '方' '旗' '日' '星' '根' '正' '民' '永'\n",
            " '汇' '法' '浙' '浦' '海' '渣' '渤' '澳' '特' '理' '瑞' '生' '盘' '硅' '穗' '美' '联' '花'\n",
            " '菱' '蒙' '蓄' '行' '设' '谷' '通' '邦' '邮' '都' '银' '际' '韩' '首' '黎']\n",
            "max length: 9\n"
          ],
          "name": "stdout"
        }
      ]
    },
    {
      "metadata": {
        "id": "u0Ue4cf_UWIR",
        "colab_type": "code",
        "colab": {
          "base_uri": "https://localhost:8080/",
          "height": 1496
        },
        "outputId": "535d1214-809f-4589-fbb2-8c20276af5a4"
      },
      "cell_type": "code",
      "source": [
        "# building word dictionary\n",
        "\n",
        "one_hot = np.eye(uni_words.shape[0])\n",
        "word_dict = {}\n",
        "for i, e in enumerate(uni_words):\n",
        "  word_dict[e] = i\n",
        "word_dict"
      ],
      "execution_count": 4,
      "outputs": [
        {
          "output_type": "execute_result",
          "data": {
            "text/plain": [
              "{'一': 0,\n",
              " '三': 1,\n",
              " '业': 2,\n",
              " '东': 3,\n",
              " '中': 4,\n",
              " '丰': 5,\n",
              " '丹': 6,\n",
              " '井': 7,\n",
              " '亚': 8,\n",
              " '交': 9,\n",
              " '亨': 10,\n",
              " '企': 11,\n",
              " '侨': 12,\n",
              " '信': 13,\n",
              " '储': 14,\n",
              " '光': 15,\n",
              " '兴': 16,\n",
              " '农': 17,\n",
              " '利': 18,\n",
              " '华': 19,\n",
              " '南': 20,\n",
              " '友': 21,\n",
              " '发': 22,\n",
              " '商': 23,\n",
              " '国': 24,\n",
              " '士': 25,\n",
              " '夏': 26,\n",
              " '大': 27,\n",
              " '安': 28,\n",
              " '富': 29,\n",
              " '尔': 30,\n",
              " '展': 31,\n",
              " '工': 32,\n",
              " '巴': 33,\n",
              " '平': 34,\n",
              " '广': 35,\n",
              " '建': 36,\n",
              " '德': 37,\n",
              " '志': 38,\n",
              " '恒': 39,\n",
              " '意': 40,\n",
              " '打': 41,\n",
              " '招': 42,\n",
              " '摩': 43,\n",
              " '政': 44,\n",
              " '新': 45,\n",
              " '方': 46,\n",
              " '旗': 47,\n",
              " '日': 48,\n",
              " '星': 49,\n",
              " '根': 50,\n",
              " '正': 51,\n",
              " '民': 52,\n",
              " '永': 53,\n",
              " '汇': 54,\n",
              " '法': 55,\n",
              " '浙': 56,\n",
              " '浦': 57,\n",
              " '海': 58,\n",
              " '渣': 59,\n",
              " '渤': 60,\n",
              " '澳': 61,\n",
              " '特': 62,\n",
              " '理': 63,\n",
              " '瑞': 64,\n",
              " '生': 65,\n",
              " '盘': 66,\n",
              " '硅': 67,\n",
              " '穗': 68,\n",
              " '美': 69,\n",
              " '联': 70,\n",
              " '花': 71,\n",
              " '菱': 72,\n",
              " '蒙': 73,\n",
              " '蓄': 74,\n",
              " '行': 75,\n",
              " '设': 76,\n",
              " '谷': 77,\n",
              " '通': 78,\n",
              " '邦': 79,\n",
              " '邮': 80,\n",
              " '都': 81,\n",
              " '银': 82,\n",
              " '际': 83,\n",
              " '韩': 84,\n",
              " '首': 85,\n",
              " '黎': 86}"
            ]
          },
          "metadata": {
            "tags": []
          },
          "execution_count": 4
        }
      ]
    },
    {
      "metadata": {
        "id": "kw7JNe_pgCyb",
        "colab_type": "text"
      },
      "cell_type": "markdown",
      "source": [
        ""
      ]
    },
    {
      "metadata": {
        "id": "MTiKdYJ_dDZp",
        "colab_type": "code",
        "colab": {}
      },
      "cell_type": "code",
      "source": [
        ""
      ],
      "execution_count": 0,
      "outputs": []
    },
    {
      "metadata": {
        "id": "QAxpERNaYm8c",
        "colab_type": "code",
        "colab": {
          "base_uri": "https://localhost:8080/",
          "height": 952
        },
        "outputId": "b10289f6-8a0c-4ed8-e6d0-69754adc48aa"
      },
      "cell_type": "code",
      "source": [
        "# translating with dictionary\n",
        "all_samples"
      ],
      "execution_count": 5,
      "outputs": [
        {
          "output_type": "execute_result",
          "data": {
            "text/plain": [
              "[['中', '国', '工', '商', '银', '行'],\n",
              " ['中', '国', '农', '业', '银', '行'],\n",
              " ['中', '国', '银', '行'],\n",
              " ['中', '国', '建', '设', '银', '行'],\n",
              " ['交', '通', '银', '行'],\n",
              " ['中', '国', '邮', '政', '储', '蓄', '银', '行'],\n",
              " ['中', '国', '光', '大', '银', '行'],\n",
              " ['中', '国', '民', '生', '银', '行'],\n",
              " ['招', '商', '银', '行'],\n",
              " ['中', '信', '银', '行'],\n",
              " ['华', '夏', '银', '行'],\n",
              " ['浦', '发', '银', '行'],\n",
              " ['平', '安', '银', '行'],\n",
              " ['广', '发', '银', '行'],\n",
              " ['兴', '业', '银', '行'],\n",
              " ['浙', '商', '银', '行'],\n",
              " ['渤', '海', '银', '行'],\n",
              " ['恒', '丰', '银', '行'],\n",
              " ['企', '业', '银', '行'],\n",
              " ['东', '方', '汇', '理', '银', '行'],\n",
              " ['摩', '根', '大', '通', '银', '行'],\n",
              " ['友', '利', '银', '行'],\n",
              " ['韩', '亚', '银', '行'],\n",
              " ['德', '意', '志', '银', '行'],\n",
              " ['新', '韩', '银', '行'],\n",
              " ['法', '国', '兴', '业', '银', '行'],\n",
              " ['蒙', '特', '利', '尔', '银', '行'],\n",
              " ['瑞', '士', '银', '行'],\n",
              " ['国', '民', '银', '行'],\n",
              " ['汇', '丰', '中', '国'],\n",
              " ['渣', '打', '中', '国'],\n",
              " ['花', '旗', '中', '国'],\n",
              " ['东', '亚', '中', '国'],\n",
              " ['瑞', '穗', '中', '国'],\n",
              " ['恒', '生', '中', '国'],\n",
              " ['星', '展', '中', '国'],\n",
              " ['三', '菱', '日', '联', '中', '国'],\n",
              " ['南', '商', '中', '国'],\n",
              " ['大', '华', '中', '国'],\n",
              " ['法', '国', '巴', '黎', '银', '行'],\n",
              " ['三', '井', '中', '国'],\n",
              " ['汇', '理', '中', '国'],\n",
              " ['盘', '谷', '中', '国'],\n",
              " ['澳', '新', '中', '国'],\n",
              " ['富', '邦', '华', '一', '银', '行'],\n",
              " ['华', '美', '中', '国'],\n",
              " ['正', '信', '银', '行'],\n",
              " ['浦', '发', '硅', '谷', '银', '行'],\n",
              " ['首', '都', '银', '行'],\n",
              " ['摩', '根', '士', '丹', '利', '国', '际', '银', '行'],\n",
              " ['新', '联', '商', '业', '银', '行'],\n",
              " ['华', '商', '银', '行'],\n",
              " ['华', '侨', '永', '亨', '银', '行'],\n",
              " ['大', '新', '银', '行'],\n",
              " ['中', '信', '银', '行', '国', '际']]"
            ]
          },
          "metadata": {
            "tags": []
          },
          "execution_count": 5
        }
      ]
    },
    {
      "metadata": {
        "id": "LFQOhPbBcPiy",
        "colab_type": "code",
        "colab": {
          "base_uri": "https://localhost:8080/",
          "height": 952
        },
        "outputId": "1df711d2-181a-4e7c-dfdc-875d3b651bfc"
      },
      "cell_type": "code",
      "source": [
        "samples = []\n",
        "for item in all_samples:\n",
        "  one_line = []\n",
        "  for e in item:\n",
        "    one_line.append(word_dict[e])\n",
        "  samples.append(np.array(one_line))\n",
        "  \n",
        "      \n",
        "samples"
      ],
      "execution_count": 6,
      "outputs": [
        {
          "output_type": "execute_result",
          "data": {
            "text/plain": [
              "[array([ 4, 24, 32, 23, 82, 75]),\n",
              " array([ 4, 24, 17,  2, 82, 75]),\n",
              " array([ 4, 24, 82, 75]),\n",
              " array([ 4, 24, 36, 76, 82, 75]),\n",
              " array([ 9, 78, 82, 75]),\n",
              " array([ 4, 24, 80, 44, 14, 74, 82, 75]),\n",
              " array([ 4, 24, 15, 27, 82, 75]),\n",
              " array([ 4, 24, 52, 65, 82, 75]),\n",
              " array([42, 23, 82, 75]),\n",
              " array([ 4, 13, 82, 75]),\n",
              " array([19, 26, 82, 75]),\n",
              " array([57, 22, 82, 75]),\n",
              " array([34, 28, 82, 75]),\n",
              " array([35, 22, 82, 75]),\n",
              " array([16,  2, 82, 75]),\n",
              " array([56, 23, 82, 75]),\n",
              " array([60, 58, 82, 75]),\n",
              " array([39,  5, 82, 75]),\n",
              " array([11,  2, 82, 75]),\n",
              " array([ 3, 46, 54, 63, 82, 75]),\n",
              " array([43, 50, 27, 78, 82, 75]),\n",
              " array([21, 18, 82, 75]),\n",
              " array([84,  8, 82, 75]),\n",
              " array([37, 40, 38, 82, 75]),\n",
              " array([45, 84, 82, 75]),\n",
              " array([55, 24, 16,  2, 82, 75]),\n",
              " array([73, 62, 18, 30, 82, 75]),\n",
              " array([64, 25, 82, 75]),\n",
              " array([24, 52, 82, 75]),\n",
              " array([54,  5,  4, 24]),\n",
              " array([59, 41,  4, 24]),\n",
              " array([71, 47,  4, 24]),\n",
              " array([ 3,  8,  4, 24]),\n",
              " array([64, 68,  4, 24]),\n",
              " array([39, 65,  4, 24]),\n",
              " array([49, 31,  4, 24]),\n",
              " array([ 1, 72, 48, 70,  4, 24]),\n",
              " array([20, 23,  4, 24]),\n",
              " array([27, 19,  4, 24]),\n",
              " array([55, 24, 33, 86, 82, 75]),\n",
              " array([ 1,  7,  4, 24]),\n",
              " array([54, 63,  4, 24]),\n",
              " array([66, 77,  4, 24]),\n",
              " array([61, 45,  4, 24]),\n",
              " array([29, 79, 19,  0, 82, 75]),\n",
              " array([19, 69,  4, 24]),\n",
              " array([51, 13, 82, 75]),\n",
              " array([57, 22, 67, 77, 82, 75]),\n",
              " array([85, 81, 82, 75]),\n",
              " array([43, 50, 25,  6, 18, 24, 83, 82, 75]),\n",
              " array([45, 70, 23,  2, 82, 75]),\n",
              " array([19, 23, 82, 75]),\n",
              " array([19, 12, 53, 10, 82, 75]),\n",
              " array([27, 45, 82, 75]),\n",
              " array([ 4, 13, 82, 75, 24, 83])]"
            ]
          },
          "metadata": {
            "tags": []
          },
          "execution_count": 6
        }
      ]
    },
    {
      "metadata": {
        "id": "kc_c-b8dcwj-",
        "colab_type": "code",
        "colab": {
          "base_uri": "https://localhost:8080/",
          "height": 34
        },
        "outputId": "4a5056b3-27d7-40dc-b7cd-61e83b19dcc2"
      },
      "cell_type": "code",
      "source": [
        "embedded_words = np.zeros([len(dataX), max_len, len(uni_words)])\n",
        "for i, item in enumerate(all_samples):\n",
        "  for j, character in enumerate(item):\n",
        "    embedded_words[i, j, word_dict[character]] = 1\n",
        "embedded_words.shape\n"
      ],
      "execution_count": 7,
      "outputs": [
        {
          "output_type": "execute_result",
          "data": {
            "text/plain": [
              "(55, 9, 87)"
            ]
          },
          "metadata": {
            "tags": []
          },
          "execution_count": 7
        }
      ]
    },
    {
      "metadata": {
        "id": "pz4AVHaTf9gs",
        "colab_type": "code",
        "colab": {
          "base_uri": "https://localhost:8080/",
          "height": 136
        },
        "outputId": "31ace1e4-9679-4049-8fd7-9756ef1638f1"
      },
      "cell_type": "code",
      "source": [
        "trainX = embedded_words\n",
        "\n",
        "trainY = np.eye(len(dataY))\n",
        "\n",
        "trainY"
      ],
      "execution_count": 8,
      "outputs": [
        {
          "output_type": "execute_result",
          "data": {
            "text/plain": [
              "array([[1., 0., 0., ..., 0., 0., 0.],\n",
              "       [0., 1., 0., ..., 0., 0., 0.],\n",
              "       [0., 0., 1., ..., 0., 0., 0.],\n",
              "       ...,\n",
              "       [0., 0., 0., ..., 1., 0., 0.],\n",
              "       [0., 0., 0., ..., 0., 1., 0.],\n",
              "       [0., 0., 0., ..., 0., 0., 1.]])"
            ]
          },
          "metadata": {
            "tags": []
          },
          "execution_count": 8
        }
      ]
    },
    {
      "metadata": {
        "id": "2BlcVBcqhJg9",
        "colab_type": "code",
        "colab": {}
      },
      "cell_type": "code",
      "source": [
        "model = Sequential()\n",
        "model.add(LSTM(128, input_shape=(None, len(uni_words))))\n",
        "model.add(Dense(len(dataY), activation='softmax'))\n",
        "\n",
        "model.compile(loss='categorical_crossentropy', optimizer='adam')"
      ],
      "execution_count": 0,
      "outputs": []
    },
    {
      "metadata": {
        "id": "_tCJrNv8iaJ6",
        "colab_type": "code",
        "colab": {
          "base_uri": "https://localhost:8080/",
          "height": 204
        },
        "outputId": "bc4d3a7d-d526-464b-ca14-ceae9e41afd5"
      },
      "cell_type": "code",
      "source": [
        "model.summary()"
      ],
      "execution_count": 32,
      "outputs": [
        {
          "output_type": "stream",
          "text": [
            "_________________________________________________________________\n",
            "Layer (type)                 Output Shape              Param #   \n",
            "=================================================================\n",
            "lstm_2 (LSTM)                (None, 128)               110592    \n",
            "_________________________________________________________________\n",
            "dense_2 (Dense)              (None, 55)                7095      \n",
            "=================================================================\n",
            "Total params: 117,687\n",
            "Trainable params: 117,687\n",
            "Non-trainable params: 0\n",
            "_________________________________________________________________\n"
          ],
          "name": "stdout"
        }
      ]
    },
    {
      "metadata": {
        "id": "a5RINkYYikbI",
        "colab_type": "code",
        "colab": {}
      },
      "cell_type": "code",
      "source": [
        "history = model.fit(trainX, trainY,epochs=1000, verbose=0)"
      ],
      "execution_count": 0,
      "outputs": []
    },
    {
      "metadata": {
        "id": "OzXn6F5Qmap_",
        "colab_type": "code",
        "colab": {
          "base_uri": "https://localhost:8080/",
          "height": 282
        },
        "outputId": "c6adb3a1-252c-479b-b84b-f67086fbe800"
      },
      "cell_type": "code",
      "source": [
        "plt.plot(history.history['loss'])"
      ],
      "execution_count": 34,
      "outputs": [
        {
          "output_type": "execute_result",
          "data": {
            "text/plain": [
              "[<matplotlib.lines.Line2D at 0x7f9fdd5a5438>]"
            ]
          },
          "metadata": {
            "tags": []
          },
          "execution_count": 34
        },
        {
          "output_type": "display_data",
          "data": {
            "image/png": "[encoded data removed]",
            "text/plain": [
              "<matplotlib.figure.Figure at 0x7f9fdd577080>"
            ]
          },
          "metadata": {
            "tags": []
          }
        }
      ]
    },
    {
      "metadata": {
        "id": "7FvYKCChirtD",
        "colab_type": "code",
        "colab": {
          "base_uri": "https://localhost:8080/",
          "height": 221
        },
        "outputId": "077567f1-41b7-480b-9a38-b5a6bc945901"
      },
      "cell_type": "code",
      "source": [
        "model.predict(trainX[1,2:5,:][None,:,:])"
      ],
      "execution_count": 35,
      "outputs": [
        {
          "output_type": "execute_result",
          "data": {
            "text/plain": [
              "array([[0.02250632, 0.1238834 , 0.02991117, 0.0159729 , 0.00358951,\n",
              "        0.03754916, 0.01721789, 0.02464882, 0.00486366, 0.01910178,\n",
              "        0.01295016, 0.01104061, 0.00301006, 0.01164808, 0.02669056,\n",
              "        0.01735429, 0.00113029, 0.0051331 , 0.03398844, 0.00444126,\n",
              "        0.01889255, 0.00233036, 0.00367913, 0.00472446, 0.00594442,\n",
              "        0.06234615, 0.03768202, 0.01426221, 0.02664657, 0.00665612,\n",
              "        0.00975595, 0.00135013, 0.00155233, 0.00247792, 0.00401465,\n",
              "        0.01644549, 0.03072201, 0.00938556, 0.00493847, 0.01895215,\n",
              "        0.00195402, 0.00258318, 0.00251264, 0.00648397, 0.04854213,\n",
              "        0.00528277, 0.01174087, 0.04327172, 0.01162121, 0.01956949,\n",
              "        0.06031187, 0.02184224, 0.01834461, 0.00447386, 0.03207529]],\n",
              "      dtype=float32)"
            ]
          },
          "metadata": {
            "tags": []
          },
          "execution_count": 35
        }
      ]
    },
    {
      "metadata": {
        "id": "-yXGzQVLi-Us",
        "colab_type": "code",
        "colab": {}
      },
      "cell_type": "code",
      "source": [
        "def test_part_pred(test):\n",
        "  test_l = list(test)\n",
        "  translated = np.zeros([1, len(test_l), len(uni_words)])\n",
        "  for i,e  in enumerate(test_l):\n",
        "    translated[0, i, word_dict[e]] = 1\n",
        "  res = model.predict(translated).flatten()\n",
        "  res_idx = np.argsort(res)\n",
        "  for i in range(1,5):\n",
        "    print(i, dataX[res_idx[-i]], 'confidence:',res[res_idx[-i]])\n",
        "  "
      ],
      "execution_count": 0,
      "outputs": []
    },
    {
      "metadata": {
        "id": "WThndZwavVFP",
        "colab_type": "code",
        "colab": {}
      },
      "cell_type": "code",
      "source": [
        "def test_padding_pred(test):\n",
        "  test_l = list(test)\n",
        "  translated = np.zeros([1, max_len, len(uni_words)])\n",
        "  for i,e  in enumerate(test_l):\n",
        "    translated[0, i, word_dict[e]] = 1\n",
        "  res = model.predict(translated).flatten()\n",
        "  res_idx = np.argsort(res)\n",
        "  for i in range(1,5):\n",
        "    print(i, dataX[res_idx[-i]], 'confidence:',res[res_idx[-i]])"
      ],
      "execution_count": 0,
      "outputs": []
    },
    {
      "metadata": {
        "id": "bn7YDD5jkMRN",
        "colab_type": "code",
        "colab": {
          "base_uri": "https://localhost:8080/",
          "height": 85
        },
        "outputId": "ac0afa27-cd59-45cb-ca01-13847b11082f"
      },
      "cell_type": "code",
      "source": [
        "test_part_pred('浦发银行') # error"
      ],
      "execution_count": 85,
      "outputs": [
        {
          "output_type": "stream",
          "text": [
            "1 浦发硅谷银行 confidence: 0.34641626\n",
            "2 企业银行 confidence: 0.0632657\n",
            "3 国民银行 confidence: 0.0625204\n",
            "4 浦发银行 confidence: 0.061425637\n"
          ],
          "name": "stdout"
        }
      ]
    },
    {
      "metadata": {
        "id": "1HovZ9Nivbqv",
        "colab_type": "code",
        "colab": {
          "base_uri": "https://localhost:8080/",
          "height": 85
        },
        "outputId": "0b4b8ba8-9188-4722-b38c-ac9badd470b3"
      },
      "cell_type": "code",
      "source": [
        "test_padding_pred('浦发银行') # correct"
      ],
      "execution_count": 91,
      "outputs": [
        {
          "output_type": "stream",
          "text": [
            "1 浦发银行 confidence: 0.99854445\n",
            "2 招商银行 confidence: 0.00040687196\n",
            "3 广发银行 confidence: 0.00030458716\n",
            "4 浦发硅谷银行 confidence: 0.00026464887\n"
          ],
          "name": "stdout"
        }
      ]
    },
    {
      "metadata": {
        "id": "d0Ocb4fGk4Av",
        "colab_type": "code",
        "colab": {
          "base_uri": "https://localhost:8080/",
          "height": 85
        },
        "outputId": "c359789a-3f94-4d1b-cd56-686512822fef"
      },
      "cell_type": "code",
      "source": [
        "test_part_pred('中国银行')"
      ],
      "execution_count": 86,
      "outputs": [
        {
          "output_type": "stream",
          "text": [
            "1 中国银行 confidence: 0.13142104\n",
            "2 中国民生银行 confidence: 0.12011822\n",
            "3 中国光大银行 confidence: 0.070132375\n",
            "4 中信银行国际 confidence: 0.06660226\n"
          ],
          "name": "stdout"
        }
      ]
    },
    {
      "metadata": {
        "id": "b6dufiQelDSZ",
        "colab_type": "code",
        "colab": {
          "base_uri": "https://localhost:8080/",
          "height": 85
        },
        "outputId": "35f8c5a4-b001-4398-eef7-8884349fc0ba"
      },
      "cell_type": "code",
      "source": [
        "test_part_pred('邮储银行')"
      ],
      "execution_count": 87,
      "outputs": [
        {
          "output_type": "stream",
          "text": [
            "1 中国邮政储蓄银行 confidence: 0.08233403\n",
            "2 浦发硅谷银行 confidence: 0.07148282\n",
            "3 新联商业银行 confidence: 0.070438586\n",
            "4 中国农业银行 confidence: 0.065429546\n"
          ],
          "name": "stdout"
        }
      ]
    },
    {
      "metadata": {
        "id": "6TrAzRq4nGZr",
        "colab_type": "code",
        "colab": {
          "base_uri": "https://localhost:8080/",
          "height": 85
        },
        "outputId": "4233ee6f-f85b-4542-aa23-0f25986cfb28"
      },
      "cell_type": "code",
      "source": [
        "test_part_pred('农行') # correct"
      ],
      "execution_count": 88,
      "outputs": [
        {
          "output_type": "stream",
          "text": [
            "1 中国农业银行 confidence: 0.040631782\n",
            "2 中国邮政储蓄银行 confidence: 0.03114775\n",
            "3 浦发硅谷银行 confidence: 0.028055657\n",
            "4 蒙特利尔银行 confidence: 0.028047225\n"
          ],
          "name": "stdout"
        }
      ]
    },
    {
      "metadata": {
        "id": "EkgFzKjevg3H",
        "colab_type": "code",
        "colab": {
          "base_uri": "https://localhost:8080/",
          "height": 85
        },
        "outputId": "22d21ea2-2281-4ece-bc30-873eb3f11284"
      },
      "cell_type": "code",
      "source": [
        "test_padding_pred('农行') # error"
      ],
      "execution_count": 100,
      "outputs": [
        {
          "output_type": "stream",
          "text": [
            "1 企业银行 confidence: 0.7193636\n",
            "2 兴业银行 confidence: 0.25799912\n",
            "3 浦发硅谷银行 confidence: 0.009122236\n",
            "4 浦发银行 confidence: 0.0036153852\n"
          ],
          "name": "stdout"
        }
      ]
    },
    {
      "metadata": {
        "id": "vnNMedfXnIWS",
        "colab_type": "code",
        "colab": {
          "base_uri": "https://localhost:8080/",
          "height": 85
        },
        "outputId": "42001dd6-143b-44e9-da9f-a4c2dd8244b1"
      },
      "cell_type": "code",
      "source": [
        "test_part_pred('硅谷蒙特利尔')"
      ],
      "execution_count": 81,
      "outputs": [
        {
          "output_type": "stream",
          "text": [
            "1 蒙特利尔银行 confidence: 0.93809736\n",
            "2 法国巴黎银行 confidence: 0.02374089\n",
            "3 国民银行 confidence: 0.018213242\n",
            "4 浦发硅谷银行 confidence: 0.006558628\n"
          ],
          "name": "stdout"
        }
      ]
    },
    {
      "metadata": {
        "id": "suKkszKTsR2q",
        "colab_type": "code",
        "colab": {
          "base_uri": "https://localhost:8080/",
          "height": 85
        },
        "outputId": "3bb6f36b-efa4-4f47-a88a-75b4e96659dd"
      },
      "cell_type": "code",
      "source": [
        "test_part_pred('蒙尔')"
      ],
      "execution_count": 107,
      "outputs": [
        {
          "output_type": "stream",
          "text": [
            "1 蒙特利尔银行 confidence: 0.037981875\n",
            "2 中国邮政储蓄银行 confidence: 0.027013741\n",
            "3 中信银行国际 confidence: 0.02674882\n",
            "4 中国农业银行 confidence: 0.026427884\n"
          ],
          "name": "stdout"
        }
      ]
    },
    {
      "metadata": {
        "id": "_HW9rizIsVNg",
        "colab_type": "code",
        "colab": {
          "base_uri": "https://localhost:8080/",
          "height": 85
        },
        "outputId": "0dc11b80-e600-4200-ef78-94bacbef773d"
      },
      "cell_type": "code",
      "source": [
        "test_part_pred('中农行')"
      ],
      "execution_count": 108,
      "outputs": [
        {
          "output_type": "stream",
          "text": [
            "1 中国农业银行 confidence: 0.056748103\n",
            "2 中国邮政储蓄银行 confidence: 0.049578756\n",
            "3 中国民生银行 confidence: 0.04324816\n",
            "4 中国银行 confidence: 0.036165647\n"
          ],
          "name": "stdout"
        }
      ]
    },
    {
      "metadata": {
        "id": "QpW5wdUYsmud",
        "colab_type": "code",
        "colab": {
          "base_uri": "https://localhost:8080/",
          "height": 952
        },
        "outputId": "f7d68b4e-522a-432d-bcd6-f3f2762e0265"
      },
      "cell_type": "code",
      "source": [
        "preds = model.predict(trainX)\n",
        "idx = preds.argmax(axis=0)\n",
        "for i,index in enumerate(idx):\n",
        "  print(dataX[index],'-',preds[i,index])"
      ],
      "execution_count": 83,
      "outputs": [
        {
          "output_type": "stream",
          "text": [
            "中国工商银行 - 0.998965\n",
            "中国农业银行 - 0.9989942\n",
            "中国银行 - 0.9985702\n",
            "中国建设银行 - 0.999243\n",
            "交通银行 - 0.99921334\n",
            "中国邮政储蓄银行 - 0.9991466\n",
            "中国光大银行 - 0.9988135\n",
            "中国民生银行 - 0.9986314\n",
            "招商银行 - 0.9984308\n",
            "中信银行 - 0.99858826\n",
            "华夏银行 - 0.9989926\n",
            "浦发银行 - 0.99854445\n",
            "平安银行 - 0.9988078\n",
            "广发银行 - 0.99855036\n",
            "兴业银行 - 0.9983885\n",
            "浙商银行 - 0.99893135\n",
            "渤海银行 - 0.9994349\n",
            "恒丰银行 - 0.9993913\n",
            "企业银行 - 0.9983057\n",
            "东方汇理银行 - 0.99943465\n",
            "摩根大通银行 - 0.99939847\n",
            "友利银行 - 0.99911946\n",
            "韩亚银行 - 0.99887687\n",
            "德意志银行 - 0.99926084\n",
            "新韩银行 - 0.99913895\n",
            "法国兴业银行 - 0.9992803\n",
            "蒙特利尔银行 - 0.9994573\n",
            "瑞士银行 - 0.9993179\n",
            "国民银行 - 0.9988532\n",
            "汇丰中国 - 0.99865353\n",
            "渣打中国 - 0.9990398\n",
            "花旗中国 - 0.99881554\n",
            "东亚中国 - 0.9992939\n",
            "瑞穗中国 - 0.99861765\n",
            "恒生中国 - 0.999343\n",
            "星展中国 - 0.99889165\n",
            "三菱日联中国 - 0.99926406\n",
            "南商中国 - 0.99899894\n",
            "大华中国 - 0.99914455\n",
            "法国巴黎银行 - 0.99941766\n",
            "三井中国 - 0.9986915\n",
            "汇理中国 - 0.99866414\n",
            "盘谷中国 - 0.99890924\n",
            "澳新中国 - 0.99892277\n",
            "富邦华一银行 - 0.99883777\n",
            "华美中国 - 0.99899083\n",
            "正信银行 - 0.99941933\n",
            "浦发硅谷银行 - 0.9989562\n",
            "首都银行 - 0.999203\n",
            "摩根士丹利国际银行 - 0.9993017\n",
            "新联商业银行 - 0.99911445\n",
            "华商银行 - 0.9988446\n",
            "华侨永亨银行 - 0.99951637\n",
            "大新银行 - 0.9993723\n",
            "中信银行国际 - 0.9981875\n"
          ],
          "name": "stdout"
        }
      ]
    },
    {
      "metadata": {
        "id": "8afULqPavM9D",
        "colab_type": "code",
        "colab": {}
      },
      "cell_type": "code",
      "source": [
        ""
      ],
      "execution_count": 0,
      "outputs": []
    }
  ]
}