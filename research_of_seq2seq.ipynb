{
  "nbformat": 4,
  "nbformat_minor": 0,
  "metadata": {
    "colab": {
      "name": "research of seq2seq.ipynb",
      "version": "0.3.2",
      "provenance": [],
      "collapsed_sections": []
    },
    "kernelspec": {
      "name": "python3",
      "display_name": "Python 3"
    }
  },
  "cells": [
    {
      "cell_type": "markdown",
      "metadata": {
        "id": "view-in-github",
        "colab_type": "text"
      },
      "source": [
        "[View in Colaboratory](https://colab.research.google.com/github/DongminWu/MLpractice/blob/master/research_of_seq2seq.ipynb)"
      ]
    },
    {
      "metadata": {
        "id": "3rzVAFOD9f1z",
        "colab_type": "text"
      },
      "cell_type": "markdown",
      "source": [
        "# Sequence to sequence example in Keras\n",
        "\n",
        "This script demonstrates how to implement a basic character-level\n",
        "sequence-to-sequence model. We apply it to translating\n",
        "short English sentences into short French sentences,\n",
        "character-by-character. Note that it is fairly unusual to\n",
        "do character-level machine translation, as word-level\n",
        "models are more common in this domain.\n",
        "# Summary of the algorithm\n",
        "- We start with input sequences from a domain (e.g. English sentences)\n",
        "    and correspding target sequences from another domain\n",
        "    (e.g. French sentences).\n",
        "- An encoder LSTM turns input sequences to 2 state vectors\n",
        "    (we keep the last LSTM state and discard the outputs).\n",
        "- A decoder LSTM is trained to turn the target sequences into\n",
        "    the same sequence but offset by one timestep in the future,\n",
        "    a training process called \"teacher forcing\" in this context.\n",
        "    Is uses as initial state the state vectors from the encoder.\n",
        "    Effectively, the decoder learns to generate `targets[t+1...]`\n",
        "    given `targets[...t]`, conditioned on the input sequence.\n",
        "- In inference mode, when we want to decode unknown input sequences, we:\n",
        "    - Encode the input sequence into state vectors\n",
        "    - Start with a target sequence of size 1\n",
        "        (just the start-of-sequence character)\n",
        "    - Feed the state vectors and 1-char target sequence\n",
        "        to the decoder to produce predictions for the next character\n",
        "    - Sample the next character using these predictions\n",
        "        (we simply use argmax).\n",
        "    - Append the sampled character to the target sequence\n",
        "    - Repeat until we generate the end-of-sequence character or we\n",
        "        hit the character limit.\n",
        "        \n",
        "        \n",
        "# Data download\n",
        "English to French sentence pairs.\n",
        "http://www.manythings.org/anki/fra-eng.zip\n",
        "Lots of neat sentence pairs datasets can be found at:\n",
        "http://www.manythings.org/anki/\n",
        "\n",
        "# References\n",
        "- Sequence to Sequence Learning with Neural Networks\n",
        "    https://arxiv.org/abs/1409.3215\n",
        "- Learning Phrase Representations using\n",
        "    RNN Encoder-Decoder for Statistical Machine Translation\n",
        "    https://arxiv.org/abs/1406.1078"
      ]
    },
    {
      "metadata": {
        "id": "r2MKJYam_DLi",
        "colab_type": "text"
      },
      "cell_type": "markdown",
      "source": [
        "# Load data"
      ]
    },
    {
      "metadata": {
        "id": "sYw3XHq0998o",
        "colab_type": "code",
        "colab": {
          "base_uri": "https://localhost:8080/",
          "height": 255
        },
        "outputId": "f90fc84c-b7cd-496d-8d61-62d357c7d66c"
      },
      "cell_type": "code",
      "source": [
        "!rm *.zip* -rf\n",
        "!wget  http://www.manythings.org/anki/fra-eng.zip\n",
        "!unzip fra-eng.zip -o\n",
        "!ls"
      ],
      "execution_count": 1,
      "outputs": [
        {
          "output_type": "stream",
          "text": [
            "--2018-04-22 15:47:41--  http://www.manythings.org/anki/fra-eng.zip\r\n",
            "Resolving www.manythings.org (www.manythings.org)... 104.24.109.196, 104.24.108.196, 2400:cb00:2048:1::6818:6dc4, ...\r\n",
            "Connecting to www.manythings.org (www.manythings.org)|104.24.109.196|:80... connected.\n",
            "HTTP request sent, awaiting response... 200 OK\n",
            "Length: 3144034 (3.0M) [application/zip]\n",
            "Saving to: ‘fra-eng.zip’\n",
            "\n",
            "fra-eng.zip         100%[===================>]   3.00M  4.44MB/s    in 0.7s    \n",
            "\n",
            "2018-04-22 15:47:42 (4.44 MB/s) - ‘fra-eng.zip’ saved [3144034/3144034]\n",
            "\n",
            "Archive:  fra-eng.zip\n",
            "caution: filename not matched:  -o\n",
            "_about.txt  datalab  fra-eng.zip  fra.txt\n"
          ],
          "name": "stdout"
        }
      ]
    },
    {
      "metadata": {
        "id": "KUnp7ylg_Chu",
        "colab_type": "text"
      },
      "cell_type": "markdown",
      "source": [
        "# Libraries\n"
      ]
    },
    {
      "metadata": {
        "id": "wtcGx-mZ_NX0",
        "colab_type": "code",
        "colab": {
          "base_uri": "https://localhost:8080/",
          "height": 34
        },
        "outputId": "1d83093f-7d82-4012-e9f1-4bf005289778"
      },
      "cell_type": "code",
      "source": [
        "from keras.models import Model\n",
        "from keras.layers import Input, LSTM, Dense\n",
        "import numpy as np"
      ],
      "execution_count": 2,
      "outputs": [
        {
          "output_type": "stream",
          "text": [
            "Using TensorFlow backend.\n"
          ],
          "name": "stderr"
        }
      ]
    },
    {
      "metadata": {
        "id": "1FnS4z3__Pc0",
        "colab_type": "text"
      },
      "cell_type": "markdown",
      "source": [
        "# Hyperparameters"
      ]
    },
    {
      "metadata": {
        "id": "_bVtQ3zx_T_E",
        "colab_type": "code",
        "colab": {}
      },
      "cell_type": "code",
      "source": [
        "\n",
        "batch_size = 64  # Batch size for training.\n",
        "epochs = 100  # Number of epochs to train for.\n",
        "latent_dim = 256  # Latent dimensionality of the encoding space.\n",
        "num_samples = 10000  # Number of samples to train on.\n",
        "# Path to the data txt file on disk.\n",
        "data_path = 'fra.txt'"
      ],
      "execution_count": 0,
      "outputs": []
    },
    {
      "metadata": {
        "id": "7GFlmDJg_Yg9",
        "colab_type": "text"
      },
      "cell_type": "markdown",
      "source": [
        "# Vectorize the data\n",
        "\n"
      ]
    },
    {
      "metadata": {
        "id": "DWDizYgt_j8d",
        "colab_type": "text"
      },
      "cell_type": "markdown",
      "source": [
        "load data from `fra.txt`"
      ]
    },
    {
      "metadata": {
        "id": "b-7trXay_bRl",
        "colab_type": "code",
        "colab": {}
      },
      "cell_type": "code",
      "source": [
        "input_texts = []\n",
        "target_texts = []\n",
        "input_characters = set()\n",
        "target_characters = set()\n",
        "with open(data_path, 'r') as f:\n",
        "    lines = f.read().split('\\n')\n",
        "for line in lines[: min(num_samples, len(lines) - 1)]:\n",
        "    input_text, target_text = line.split('\\t')\n",
        "    # We use \"tab\" as the \"start sequence\" character\n",
        "    # for the targets, and \"\\n\" as \"end sequence\" character.\n",
        "    target_text = '\\t' + target_text + '\\n'\n",
        "    input_texts.append(input_text)\n",
        "    target_texts.append(target_text)\n",
        "    for char in input_text:\n",
        "        if char not in input_characters:\n",
        "            input_characters.add(char)\n",
        "    for char in target_text:\n",
        "        if char not in target_characters:\n",
        "            target_characters.add(char)\n",
        "\n",
        "input_characters = sorted(list(input_characters))\n",
        "target_characters = sorted(list(target_characters))"
      ],
      "execution_count": 0,
      "outputs": []
    },
    {
      "metadata": {
        "id": "v9MPXOtq_0uR",
        "colab_type": "code",
        "colab": {
          "base_uri": "https://localhost:8080/",
          "height": 190
        },
        "outputId": "72ad9200-8446-4434-85d7-589f43fe33cd"
      },
      "cell_type": "code",
      "source": [
        "print('length of input_texts: %d' %  len(input_texts))\n",
        "print('length of target_texts: %d' %  len(target_texts))\n",
        "\n",
        "print('Input text: %s' % input_texts[0:10])\n",
        "print('Target text: %s' % target_texts[0:10])\n",
        "\n",
        "print('=================================================================')\n",
        "\n",
        "print('length of input_characters: %d' %  len(input_characters))\n",
        "print('length of target_characters: %d' %  len(target_characters))\n",
        "\n",
        "print('Input characters: %s' % input_characters)\n",
        "print('Target characters: %s' % target_characters)\n"
      ],
      "execution_count": 5,
      "outputs": [
        {
          "output_type": "stream",
          "text": [
            "length of input_texts: 10000\n",
            "length of target_texts: 10000\n",
            "Input text: ['Go.', 'Run!', 'Run!', 'Wow!', 'Fire!', 'Help!', 'Jump.', 'Stop!', 'Stop!', 'Stop!']\n",
            "Target text: ['\\tVa !\\n', '\\tCours\\u202f!\\n', '\\tCourez\\u202f!\\n', '\\tÇa alors\\u202f!\\n', '\\tAu feu !\\n', \"\\tÀ l'aide\\u202f!\\n\", '\\tSaute.\\n', '\\tÇa suffit\\u202f!\\n', '\\tStop\\u202f!\\n', '\\tArrête-toi !\\n']\n",
            "=================================================================\n",
            "length of input_characters: 71\n",
            "length of target_characters: 94\n",
            "Input characters: [' ', '!', '$', '%', '&', \"'\", ',', '-', '.', '0', '1', '2', '3', '4', '5', '6', '7', '8', '9', ':', '?', 'A', 'B', 'C', 'D', 'E', 'F', 'G', 'H', 'I', 'J', 'K', 'L', 'M', 'N', 'O', 'P', 'Q', 'R', 'S', 'T', 'U', 'V', 'W', 'Y', 'a', 'b', 'c', 'd', 'e', 'f', 'g', 'h', 'i', 'j', 'k', 'l', 'm', 'n', 'o', 'p', 'q', 'r', 's', 't', 'u', 'v', 'w', 'x', 'y', 'z']\n",
            "Target characters: ['\\t', '\\n', ' ', '!', '$', '%', '&', \"'\", '(', ')', ',', '-', '.', '0', '1', '3', '5', '6', '8', '9', ':', '?', 'A', 'B', 'C', 'D', 'E', 'F', 'G', 'H', 'I', 'J', 'K', 'L', 'M', 'N', 'O', 'P', 'Q', 'R', 'S', 'T', 'U', 'V', 'Y', 'a', 'b', 'c', 'd', 'e', 'f', 'g', 'h', 'i', 'j', 'k', 'l', 'm', 'n', 'o', 'p', 'q', 'r', 's', 't', 'u', 'v', 'w', 'x', 'y', 'z', '\\xa0', '«', '»', 'À', 'Ç', 'É', 'Ê', 'à', 'â', 'ç', 'è', 'é', 'ê', 'ë', 'î', 'ï', 'ô', 'ù', 'û', 'œ', '\\u2009', '’', '\\u202f']\n"
          ],
          "name": "stdout"
        }
      ]
    },
    {
      "metadata": {
        "id": "t2w447paBPSL",
        "colab_type": "code",
        "colab": {
          "base_uri": "https://localhost:8080/",
          "height": 102
        },
        "outputId": "3dabacc9-98c1-40cc-8d3c-b2e2aa1b27c9"
      },
      "cell_type": "code",
      "source": [
        "num_encoder_tokens = len(input_characters)\n",
        "num_decoder_tokens = len(target_characters)\n",
        "max_encoder_seq_length = max([len(txt) for txt in input_texts])\n",
        "max_decoder_seq_length = max([len(txt) for txt in target_texts])\n",
        "\n",
        "print('Number of samples:', len(input_texts))\n",
        "print('Number of unique input tokens:', num_encoder_tokens)\n",
        "print('Number of unique output tokens:', num_decoder_tokens)\n",
        "print('Max sequence length for inputs:', max_encoder_seq_length)\n",
        "print('Max sequence length for outputs:', max_decoder_seq_length)"
      ],
      "execution_count": 6,
      "outputs": [
        {
          "output_type": "stream",
          "text": [
            "Number of samples: 10000\n",
            "Number of unique input tokens: 71\n",
            "Number of unique output tokens: 94\n",
            "Max sequence length for inputs: 16\n",
            "Max sequence length for outputs: 59\n"
          ],
          "name": "stdout"
        }
      ]
    },
    {
      "metadata": {
        "id": "YwEoINdNBggP",
        "colab_type": "text"
      },
      "cell_type": "markdown",
      "source": [
        "The `max_encoder_seq_length` and `max_decoder_seq_length` in the above section is the largest number of characters in on word "
      ]
    },
    {
      "metadata": {
        "id": "G0IdnSQZCG8X",
        "colab_type": "code",
        "colab": {
          "base_uri": "https://localhost:8080/",
          "height": 71
        },
        "outputId": "795667c6-5a91-44ef-cdb0-edbb17666b5c"
      },
      "cell_type": "code",
      "source": [
        "\n",
        "input_token_index = dict(\n",
        "    [(char, i) for i, char in enumerate(input_characters)])\n",
        "target_token_index = dict(\n",
        "    [(char, i) for i, char in enumerate(target_characters)])\n",
        "\n",
        "encoder_input_data = np.zeros(\n",
        "    (len(input_texts), max_encoder_seq_length, num_encoder_tokens),\n",
        "    dtype='float32')\n",
        "decoder_input_data = np.zeros(\n",
        "    (len(input_texts), max_decoder_seq_length, num_decoder_tokens),\n",
        "    dtype='float32')\n",
        "decoder_target_data = np.zeros(\n",
        "    (len(input_texts), max_decoder_seq_length, num_decoder_tokens),\n",
        "    dtype='float32')\n",
        "\n",
        "\n",
        "print(\"Input token: %s\" % input_token_index)\n",
        "print(\"Target token: %s\" % target_token_index)\n"
      ],
      "execution_count": 7,
      "outputs": [
        {
          "output_type": "stream",
          "text": [
            "Input token: {' ': 0, '!': 1, '$': 2, '%': 3, '&': 4, \"'\": 5, ',': 6, '-': 7, '.': 8, '0': 9, '1': 10, '2': 11, '3': 12, '4': 13, '5': 14, '6': 15, '7': 16, '8': 17, '9': 18, ':': 19, '?': 20, 'A': 21, 'B': 22, 'C': 23, 'D': 24, 'E': 25, 'F': 26, 'G': 27, 'H': 28, 'I': 29, 'J': 30, 'K': 31, 'L': 32, 'M': 33, 'N': 34, 'O': 35, 'P': 36, 'Q': 37, 'R': 38, 'S': 39, 'T': 40, 'U': 41, 'V': 42, 'W': 43, 'Y': 44, 'a': 45, 'b': 46, 'c': 47, 'd': 48, 'e': 49, 'f': 50, 'g': 51, 'h': 52, 'i': 53, 'j': 54, 'k': 55, 'l': 56, 'm': 57, 'n': 58, 'o': 59, 'p': 60, 'q': 61, 'r': 62, 's': 63, 't': 64, 'u': 65, 'v': 66, 'w': 67, 'x': 68, 'y': 69, 'z': 70}\n",
            "Target token: {'\\t': 0, '\\n': 1, ' ': 2, '!': 3, '$': 4, '%': 5, '&': 6, \"'\": 7, '(': 8, ')': 9, ',': 10, '-': 11, '.': 12, '0': 13, '1': 14, '3': 15, '5': 16, '6': 17, '8': 18, '9': 19, ':': 20, '?': 21, 'A': 22, 'B': 23, 'C': 24, 'D': 25, 'E': 26, 'F': 27, 'G': 28, 'H': 29, 'I': 30, 'J': 31, 'K': 32, 'L': 33, 'M': 34, 'N': 35, 'O': 36, 'P': 37, 'Q': 38, 'R': 39, 'S': 40, 'T': 41, 'U': 42, 'V': 43, 'Y': 44, 'a': 45, 'b': 46, 'c': 47, 'd': 48, 'e': 49, 'f': 50, 'g': 51, 'h': 52, 'i': 53, 'j': 54, 'k': 55, 'l': 56, 'm': 57, 'n': 58, 'o': 59, 'p': 60, 'q': 61, 'r': 62, 's': 63, 't': 64, 'u': 65, 'v': 66, 'w': 67, 'x': 68, 'y': 69, 'z': 70, '\\xa0': 71, '«': 72, '»': 73, 'À': 74, 'Ç': 75, 'É': 76, 'Ê': 77, 'à': 78, 'â': 79, 'ç': 80, 'è': 81, 'é': 82, 'ê': 83, 'ë': 84, 'î': 85, 'ï': 86, 'ô': 87, 'ù': 88, 'û': 89, 'œ': 90, '\\u2009': 91, '’': 92, '\\u202f': 93}\n"
          ],
          "name": "stdout"
        }
      ]
    },
    {
      "metadata": {
        "id": "kzB5pDQ8CvvF",
        "colab_type": "text"
      },
      "cell_type": "markdown",
      "source": [
        "In the above section, we transform each character into a unique number"
      ]
    },
    {
      "metadata": {
        "id": "JGEZAVNkDnOI",
        "colab_type": "code",
        "colab": {
          "base_uri": "https://localhost:8080/",
          "height": 51
        },
        "outputId": "37e65e3c-1ad8-45e6-fee6-35b0b0a48ecc"
      },
      "cell_type": "code",
      "source": [
        "\n",
        "\n",
        "for i, (input_text, target_text) in enumerate(zip(input_texts, target_texts)):\n",
        "    for t, char in enumerate(input_text):\n",
        "        encoder_input_data[i, t, input_token_index[char]] = 1.\n",
        "    for t, char in enumerate(target_text):\n",
        "        # decoder_target_data is ahead of decoder_input_data by one timestep\n",
        "        decoder_input_data[i, t, target_token_index[char]] = 1.\n",
        "        if t > 0:\n",
        "            # decoder_target_data will be ahead by one timestep\n",
        "            # and will not include the start character.\n",
        "            decoder_target_data[i, t - 1, target_token_index[char]] = 1.\n",
        "            \n",
        "            \n",
        "print(encoder_input_data.shape)\n",
        "print(decoder_input_data.shape)\n"
      ],
      "execution_count": 9,
      "outputs": [
        {
          "output_type": "stream",
          "text": [
            "(10000, 16, 71)\n",
            "(10000, 59, 94)\n"
          ],
          "name": "stdout"
        }
      ]
    },
    {
      "metadata": {
        "id": "72LnWguyELGK",
        "colab_type": "text"
      },
      "cell_type": "markdown",
      "source": [
        "In the above section, there are `10000` data vectors in the train set and test set. Each data vector in Train set has a sequence with the size of `16`, each data point in a sequence has `71` features"
      ]
    },
    {
      "metadata": {
        "id": "OFraf6a7H2Xx",
        "colab_type": "text"
      },
      "cell_type": "markdown",
      "source": [
        "# Build Model\n",
        "\n",
        "## training model\n"
      ]
    },
    {
      "metadata": {
        "id": "Cbdb1ai7H_sr",
        "colab_type": "code",
        "colab": {
          "base_uri": "https://localhost:8080/",
          "height": 122
        },
        "outputId": "43840ec3-9f56-4a37-b76b-b68aac7afc5d"
      },
      "cell_type": "code",
      "source": [
        "\n",
        "\n",
        "# Define an input sequence and process it.\n",
        "encoder_inputs = Input(shape=(None, num_encoder_tokens))\n",
        "encoder = LSTM(latent_dim, return_state=True)\n",
        "encoder_outputs, state_h, state_c = encoder(encoder_inputs)\n",
        "# We discard `encoder_outputs` and only keep the states.\n",
        "encoder_states = [state_h, state_c]\n",
        "\n",
        "# Set up the decoder, using `encoder_states` as initial state.\n",
        "decoder_inputs = Input(shape=(None, num_decoder_tokens))\n",
        "# We set up our decoder to return full output sequences,\n",
        "# and to return internal states as well. We don't use the\n",
        "# return states in the training model, but we will use them in inference.\n",
        "decoder_lstm = LSTM(latent_dim, return_sequences=True, return_state=True)\n",
        "decoder_outputs, _, _ = decoder_lstm(decoder_inputs,\n",
        "                                     initial_state=encoder_states)\n",
        "decoder_dense = Dense(num_decoder_tokens, activation='softmax')\n",
        "decoder_outputs = decoder_dense(decoder_outputs)\n",
        "\n",
        "# Define the model that will turn\n",
        "# `encoder_input_data` & `decoder_input_data` into `decoder_target_data`\n",
        "model = Model([encoder_inputs, decoder_inputs], decoder_outputs)\n",
        "\n",
        "# Run training\n",
        "model.compile(optimizer='rmsprop', loss='categorical_crossentropy')\n",
        "model.fit([encoder_input_data, decoder_input_data], decoder_target_data,\n",
        "          batch_size=batch_size,\n",
        "          epochs=1,\n",
        "#           epochs=epochs,\n",
        "          validation_split=0.2)\n",
        "# Save model\n",
        "model.save('s2s.h5')"
      ],
      "execution_count": 11,
      "outputs": [
        {
          "output_type": "stream",
          "text": [
            "Train on 8000 samples, validate on 2000 samples\n",
            "Epoch 1/1\n",
            "8000/8000 [==============================] - 76s 9ms/step - loss: 0.9241 - val_loss: 0.9833\n"
          ],
          "name": "stdout"
        },
        {
          "output_type": "stream",
          "text": [
            "/usr/local/lib/python3.6/dist-packages/keras/engine/topology.py:2368: UserWarning: Layer lstm_4 was passed non-serializable keyword arguments: {'initial_state': [<tf.Tensor 'lstm_3/while/Exit_2:0' shape=(?, 256) dtype=float32>, <tf.Tensor 'lstm_3/while/Exit_3:0' shape=(?, 256) dtype=float32>]}. They will not be included in the serialized model (and thus will be missing at deserialization time).\n",
            "  str(node.arguments) + '. They will not be included '\n"
          ],
          "name": "stderr"
        }
      ]
    },
    {
      "metadata": {
        "id": "S5ojOduUOIQy",
        "colab_type": "code",
        "colab": {}
      },
      "cell_type": "code",
      "source": [
        "\n",
        "\n",
        "# Next: inference mode (sampling).\n",
        "# Here's the drill:\n",
        "# 1) encode input and retrieve initial decoder state\n",
        "# 2) run one step of decoder with this initial state\n",
        "# and a \"start of sequence\" token as target.\n",
        "# Output will be the next target token\n",
        "# 3) Repeat with the current target token and current states\n",
        "\n",
        "# Define sampling models\n",
        "encoder_model = Model(encoder_inputs, encoder_states)\n",
        "\n",
        "decoder_state_input_h = Input(shape=(latent_dim,))\n",
        "decoder_state_input_c = Input(shape=(latent_dim,))\n",
        "decoder_states_inputs = [decoder_state_input_h, decoder_state_input_c]\n",
        "decoder_outputs, state_h, state_c = decoder_lstm(\n",
        "    decoder_inputs, initial_state=decoder_states_inputs)\n",
        "decoder_states = [state_h, state_c]\n",
        "decoder_outputs = decoder_dense(decoder_outputs)\n",
        "decoder_model = Model(\n",
        "    [decoder_inputs] + decoder_states_inputs,\n",
        "    [decoder_outputs] + decoder_states)"
      ],
      "execution_count": 0,
      "outputs": []
    },
    {
      "metadata": {
        "id": "XFavlGy0ONyp",
        "colab_type": "text"
      },
      "cell_type": "markdown",
      "source": [
        "Above, the decoder model receives the states from encoder and only predict one character"
      ]
    },
    {
      "metadata": {
        "id": "8oGrRSgr9Wr5",
        "colab_type": "code",
        "colab": {}
      },
      "cell_type": "code",
      "source": [
        "\n",
        "# Reverse-lookup token index to decode sequences back to\n",
        "# something readable.\n",
        "reverse_input_char_index = dict(\n",
        "    (i, char) for char, i in input_token_index.items())\n",
        "reverse_target_char_index = dict(\n",
        "    (i, char) for char, i in target_token_index.items())\n",
        "\n",
        "\n",
        "def decode_sequence(input_seq):\n",
        "    # Encode the input as state vectors.\n",
        "    states_value = encoder_model.predict(input_seq)\n",
        "\n",
        "    # Generate empty target sequence of length 1.\n",
        "    target_seq = np.zeros((1, 1, num_decoder_tokens))\n",
        "    # Populate the first character of target sequence with the start character.\n",
        "    target_seq[0, 0, target_token_index['\\t']] = 1.\n",
        "\n",
        "    # Sampling loop for a batch of sequences\n",
        "    # (to simplify, here we assume a batch of size 1).\n",
        "    stop_condition = False\n",
        "    decoded_sentence = ''\n",
        "    while not stop_condition:\n",
        "        output_tokens, h, c = decoder_model.predict(\n",
        "            [target_seq] + states_value)\n",
        "\n",
        "        # Sample a token\n",
        "        sampled_token_index = np.argmax(output_tokens[0, -1, :])\n",
        "        sampled_char = reverse_target_char_index[sampled_token_index]\n",
        "        decoded_sentence += sampled_char\n",
        "\n",
        "        # Exit condition: either hit max length\n",
        "        # or find stop character.\n",
        "        if (sampled_char == '\\n' or\n",
        "           len(decoded_sentence) > max_decoder_seq_length):\n",
        "            stop_condition = True\n",
        "\n",
        "        # Update the target sequence (of length 1).\n",
        "        target_seq = np.zeros((1, 1, num_decoder_tokens))\n",
        "        target_seq[0, 0, sampled_token_index] = 1.\n",
        "\n",
        "        # Update states\n",
        "        states_value = [h, c]\n",
        "\n",
        "    return decoded_sentence\n",
        "\n"
      ],
      "execution_count": 0,
      "outputs": []
    },
    {
      "metadata": {
        "id": "SH6yiqDDTKs4",
        "colab_type": "text"
      },
      "cell_type": "markdown",
      "source": [
        "The process of function `decode_sequence`:\n",
        "\n",
        "1. plug the input sequence in to `encoder model` -> get the status $s$ of sequence\n",
        "2. plug $s$ and a start character $C_{0}$ into the `decoder model` -> get new status $s_1$ and next character $C_1$\n",
        "3. repeat step 2 until meet the terminating condition"
      ]
    },
    {
      "metadata": {
        "id": "4-ZAtY8YTF1J",
        "colab_type": "code",
        "colab": {
          "base_uri": "https://localhost:8080/",
          "height": 6817
        },
        "outputId": "d39da33d-b5af-4f7a-fb8e-96b07973e6e1"
      },
      "cell_type": "code",
      "source": [
        "\n",
        "for seq_index in range(100):\n",
        "    # Take one sequence (part of the training set)\n",
        "    # for trying out decoding.\n",
        "    input_seq = encoder_input_data[seq_index: seq_index + 1]\n",
        "    decoded_sentence = decode_sequence(input_seq)\n",
        "    print('-')\n",
        "    print('Input sentence:', input_texts[seq_index])\n",
        "    print('Decoded sentence:', decoded_sentence)"
      ],
      "execution_count": 15,
      "outputs": [
        {
          "output_type": "stream",
          "text": [
            "-\n",
            "Input sentence: Go.\n",
            "Decoded sentence: ous e e e.\n",
            "\n",
            "-\n",
            "Input sentence: Run!\n",
            "Decoded sentence: Cous ie e e.\n",
            "\n",
            "-\n",
            "Input sentence: Run!\n",
            "Decoded sentence: Cous ie e e.\n",
            "\n",
            "-\n",
            "Input sentence: Wow!\n",
            "Decoded sentence: Cous ie e ai.\n",
            "\n",
            "-\n",
            "Input sentence: Fire!\n",
            "Decoded sentence: ous e e e.\n",
            "\n",
            "-\n",
            "Input sentence: Help!\n",
            "Decoded sentence: Cous ie e ai.\n",
            "\n",
            "-\n",
            "Input sentence: Jump.\n",
            "Decoded sentence: Cous ie e ai.\n",
            "\n",
            "-\n",
            "Input sentence: Stop!\n",
            "Decoded sentence: oue e e e.\n",
            "\n",
            "-\n",
            "Input sentence: Stop!\n",
            "Decoded sentence: oue e e e.\n",
            "\n",
            "-\n",
            "Input sentence: Stop!\n",
            "Decoded sentence: oue e e e.\n",
            "\n",
            "-\n",
            "Input sentence: Wait!\n",
            "Decoded sentence: Vous e e e .\n",
            "\n",
            "-\n",
            "Input sentence: Wait!\n",
            "Decoded sentence: Vous e e e .\n",
            "\n",
            "-\n",
            "Input sentence: Go on.\n",
            "Decoded sentence: Cous ie e ai.\n",
            "\n",
            "-\n",
            "Input sentence: Go on.\n",
            "Decoded sentence: Cous ie e ai.\n",
            "\n",
            "-\n",
            "Input sentence: Go on.\n",
            "Decoded sentence: Cous ie e ai.\n",
            "\n",
            "-\n",
            "Input sentence: I see.\n",
            "Decoded sentence: Je se ie ie ai.\n",
            "\n",
            "-\n",
            "Input sentence: I try.\n",
            "Decoded sentence: Je se ie ie ai.\n",
            "\n",
            "-\n",
            "Input sentence: I won!\n",
            "Decoded sentence: Je se ie ie ai.\n",
            "\n",
            "-\n",
            "Input sentence: I won!\n",
            "Decoded sentence: Je se ie ie ai.\n",
            "\n",
            "-\n",
            "Input sentence: Oh no!\n",
            "Decoded sentence: Cous ie e aie.\n",
            "\n",
            "-\n",
            "Input sentence: Attack!\n",
            "Decoded sentence: \n",
            "\n",
            "-\n",
            "Input sentence: Attack!\n",
            "Decoded sentence: \n",
            "\n",
            "-\n",
            "Input sentence: Cheers!\n",
            "Decoded sentence: Vous e e e .\n",
            "\n",
            "-\n",
            "Input sentence: Cheers!\n",
            "Decoded sentence: Vous e e e .\n",
            "\n",
            "-\n",
            "Input sentence: Cheers!\n",
            "Decoded sentence: Vous e e e .\n",
            "\n",
            "-\n",
            "Input sentence: Cheers!\n",
            "Decoded sentence: Vous e e e .\n",
            "\n",
            "-\n",
            "Input sentence: Get up.\n",
            "Decoded sentence: Cous ie e ai.\n",
            "\n",
            "-\n",
            "Input sentence: Go now.\n",
            "Decoded sentence: Cous ie e aie.\n",
            "\n",
            "-\n",
            "Input sentence: Go now.\n",
            "Decoded sentence: Cous ie e aie.\n",
            "\n",
            "-\n",
            "Input sentence: Go now.\n",
            "Decoded sentence: Cous ie e aie.\n",
            "\n",
            "-\n",
            "Input sentence: Got it!\n",
            "Decoded sentence: Vous e e e .\n",
            "\n",
            "-\n",
            "Input sentence: Got it!\n",
            "Decoded sentence: Vous e e e .\n",
            "\n",
            "-\n",
            "Input sentence: Got it?\n",
            "Decoded sentence: Vous e e e .\n",
            "\n",
            "-\n",
            "Input sentence: Got it?\n",
            "Decoded sentence: Vous e e e .\n",
            "\n",
            "-\n",
            "Input sentence: Got it?\n",
            "Decoded sentence: Vous e e e .\n",
            "\n",
            "-\n",
            "Input sentence: Hop in.\n",
            "Decoded sentence: Cous ie e aie.\n",
            "\n",
            "-\n",
            "Input sentence: Hop in.\n",
            "Decoded sentence: Cous ie e aie.\n",
            "\n",
            "-\n",
            "Input sentence: Hug me.\n",
            "Decoded sentence: Cous ie e ai.\n",
            "\n",
            "-\n",
            "Input sentence: Hug me.\n",
            "Decoded sentence: Cous ie e ai.\n",
            "\n",
            "-\n",
            "Input sentence: I fell.\n",
            "Decoded sentence: Je se ie ie ai.\n",
            "\n",
            "-\n",
            "Input sentence: I fell.\n",
            "Decoded sentence: Je se ie ie ai.\n",
            "\n",
            "-\n",
            "Input sentence: I know.\n",
            "Decoded sentence: Je se ie ie ai.\n",
            "\n",
            "-\n",
            "Input sentence: I left.\n",
            "Decoded sentence: Je se ie ie ai.\n",
            "\n",
            "-\n",
            "Input sentence: I left.\n",
            "Decoded sentence: Je se ie ie ai.\n",
            "\n",
            "-\n",
            "Input sentence: I lost.\n",
            "Decoded sentence: Je se ie ie ai.\n",
            "\n",
            "-\n",
            "Input sentence: I'm 19.\n",
            "Decoded sentence: Je se ie ie ai.\n",
            "\n",
            "-\n",
            "Input sentence: I'm OK.\n",
            "Decoded sentence: Je se ie ie ai.\n",
            "\n",
            "-\n",
            "Input sentence: I'm OK.\n",
            "Decoded sentence: Je se ie ie ai.\n",
            "\n",
            "-\n",
            "Input sentence: Listen.\n",
            "Decoded sentence: Cous ie e ai.\n",
            "\n",
            "-\n",
            "Input sentence: No way!\n",
            "Decoded sentence: Je se ie aie \n",
            "\n",
            "-\n",
            "Input sentence: No way!\n",
            "Decoded sentence: Je se ie aie \n",
            "\n",
            "-\n",
            "Input sentence: No way!\n",
            "Decoded sentence: Je se ie aie \n",
            "\n",
            "-\n",
            "Input sentence: No way!\n",
            "Decoded sentence: Je se ie aie \n",
            "\n",
            "-\n",
            "Input sentence: No way!\n",
            "Decoded sentence: Je se ie aie \n",
            "\n",
            "-\n",
            "Input sentence: No way!\n",
            "Decoded sentence: Je se ie aie \n",
            "\n",
            "-\n",
            "Input sentence: No way!\n",
            "Decoded sentence: Je se ie aie \n",
            "\n",
            "-\n",
            "Input sentence: No way!\n",
            "Decoded sentence: Je se ie aie \n",
            "\n",
            "-\n",
            "Input sentence: No way!\n",
            "Decoded sentence: Je se ie aie \n",
            "\n",
            "-\n",
            "Input sentence: Really?\n",
            "Decoded sentence: Cous e e e .\n",
            "\n",
            "-\n",
            "Input sentence: Really?\n",
            "Decoded sentence: Cous e e e .\n",
            "\n",
            "-\n",
            "Input sentence: Really?\n",
            "Decoded sentence: Cous e e e .\n",
            "\n",
            "-\n",
            "Input sentence: Thanks.\n",
            "Decoded sentence: Cous ie e ai.\n",
            "\n",
            "-\n",
            "Input sentence: We try.\n",
            "Decoded sentence: Cous ie e aie.\n",
            "\n",
            "-\n",
            "Input sentence: We won.\n",
            "Decoded sentence: Je se ie ai e.\n",
            "\n",
            "-\n",
            "Input sentence: We won.\n",
            "Decoded sentence: Je se ie ai e.\n",
            "\n",
            "-\n",
            "Input sentence: We won.\n",
            "Decoded sentence: Je se ie ai e.\n",
            "\n",
            "-\n",
            "Input sentence: We won.\n",
            "Decoded sentence: Je se ie ai e.\n",
            "\n",
            "-\n",
            "Input sentence: Ask Tom.\n",
            "Decoded sentence: Vous e e e.\n",
            "\n",
            "-\n",
            "Input sentence: Awesome!\n",
            "Decoded sentence: Cous ie e ai.\n",
            "\n",
            "-\n",
            "Input sentence: Be calm.\n",
            "Decoded sentence: Cous ie e ai.\n",
            "\n",
            "-\n",
            "Input sentence: Be calm.\n",
            "Decoded sentence: Cous ie e ai.\n",
            "\n",
            "-\n",
            "Input sentence: Be calm.\n",
            "Decoded sentence: Cous ie e ai.\n",
            "\n",
            "-\n",
            "Input sentence: Be cool.\n",
            "Decoded sentence: Cous ie e ai.\n",
            "\n",
            "-\n",
            "Input sentence: Be fair.\n",
            "Decoded sentence: Cous ie e ai.\n",
            "\n",
            "-\n",
            "Input sentence: Be fair.\n",
            "Decoded sentence: Cous ie e ai.\n",
            "\n",
            "-\n",
            "Input sentence: Be fair.\n",
            "Decoded sentence: Cous ie e ai.\n",
            "\n",
            "-\n",
            "Input sentence: Be fair.\n",
            "Decoded sentence: Cous ie e ai.\n",
            "\n",
            "-\n",
            "Input sentence: Be fair.\n",
            "Decoded sentence: Cous ie e ai.\n",
            "\n",
            "-\n",
            "Input sentence: Be fair.\n",
            "Decoded sentence: Cous ie e ai.\n",
            "\n",
            "-\n",
            "Input sentence: Be kind.\n",
            "Decoded sentence: Cous ie e ai.\n",
            "\n",
            "-\n",
            "Input sentence: Be nice.\n",
            "Decoded sentence: Cous ie e ai.\n",
            "\n",
            "-\n",
            "Input sentence: Be nice.\n",
            "Decoded sentence: Cous ie e ai.\n",
            "\n",
            "-\n",
            "Input sentence: Be nice.\n",
            "Decoded sentence: Cous ie e ai.\n",
            "\n",
            "-\n",
            "Input sentence: Be nice.\n",
            "Decoded sentence: Cous ie e ai.\n",
            "\n",
            "-\n",
            "Input sentence: Be nice.\n",
            "Decoded sentence: Cous ie e ai.\n",
            "\n",
            "-\n",
            "Input sentence: Be nice.\n",
            "Decoded sentence: Cous ie e ai.\n",
            "\n",
            "-\n",
            "Input sentence: Beat it.\n",
            "Decoded sentence: Cous e e e .\n",
            "\n",
            "-\n",
            "Input sentence: Call me.\n",
            "Decoded sentence: Cous ie e ai.\n",
            "\n",
            "-\n",
            "Input sentence: Call me.\n",
            "Decoded sentence: Cous ie e ai.\n",
            "\n",
            "-\n",
            "Input sentence: Call us.\n",
            "Decoded sentence: Cous ie e ai.\n",
            "\n",
            "-\n",
            "Input sentence: Call us.\n",
            "Decoded sentence: Cous ie e ai.\n",
            "\n",
            "-\n",
            "Input sentence: Come in.\n",
            "Decoded sentence: Cous ie e ai.\n",
            "\n",
            "-\n",
            "Input sentence: Come in.\n",
            "Decoded sentence: Cous ie e ai.\n",
            "\n",
            "-\n",
            "Input sentence: Come in.\n",
            "Decoded sentence: Cous ie e ai.\n",
            "\n",
            "-\n",
            "Input sentence: Come in.\n",
            "Decoded sentence: Cous ie e ai.\n",
            "\n",
            "-\n",
            "Input sentence: Come on!\n",
            "Decoded sentence: Cous ie e ai.\n",
            "\n",
            "-\n",
            "Input sentence: Come on.\n",
            "Decoded sentence: Cous ie e ai.\n",
            "\n",
            "-\n",
            "Input sentence: Come on.\n",
            "Decoded sentence: Cous ie e ai.\n",
            "\n",
            "-\n",
            "Input sentence: Come on.\n",
            "Decoded sentence: Cous ie e ai.\n",
            "\n",
            "-\n",
            "Input sentence: Drop it!\n",
            "Decoded sentence: Je se ie ai e.\n",
            "\n"
          ],
          "name": "stdout"
        }
      ]
    }
  ]
}