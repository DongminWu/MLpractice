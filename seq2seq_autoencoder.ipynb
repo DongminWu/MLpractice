{
  "nbformat": 4,
  "nbformat_minor": 0,
  "metadata": {
    "colab": {
      "name": "seq2seq-autoencoder.ipynb",
      "version": "0.3.2",
      "provenance": []
    }
  },
  "cells": [
    {
      "cell_type": "markdown",
      "metadata": {
        "id": "view-in-github",
        "colab_type": "text"
      },
      "source": [
        "[View in Colaboratory](https://colab.research.google.com/github/DongminWu/MLpractice/blob/master/seq2seq_autoencoder.ipynb)"
      ]
    },
    {
      "metadata": {
        "id": "kIUYuEvrqVch",
        "colab_type": "text"
      },
      "cell_type": "markdown",
      "source": [
        "# Libraries"
      ]
    },
    {
      "metadata": {
        "id": "fgjM6f_YoKzk",
        "colab_type": "code",
        "colab": {
          "base_uri": "https://localhost:8080/",
          "height": 34
        },
        "outputId": "d5dec433-15bc-44c8-e1b9-ac6c7f39309e"
      },
      "cell_type": "code",
      "source": [
        "\n",
        "from keras.models import Model\n",
        "from keras.layers import Input, LSTM, Dense\n",
        "import numpy as np"
      ],
      "execution_count": 1,
      "outputs": [
        {
          "output_type": "stream",
          "text": [
            "Using TensorFlow backend.\n"
          ],
          "name": "stderr"
        }
      ]
    },
    {
      "metadata": {
        "id": "4OKc5QYrqBkD",
        "colab_type": "code",
        "colab": {}
      },
      "cell_type": "code",
      "source": [
        "import pandas as pd\n",
        "import numpy as np\n",
        "import matplotlib.pyplot as plt\n",
        "%matplotlib inline"
      ],
      "execution_count": 0,
      "outputs": []
    },
    {
      "metadata": {
        "id": "d3CtTD1pqZ9l",
        "colab_type": "text"
      },
      "cell_type": "markdown",
      "source": [
        "# Faking some data\n",
        "\n",
        "1. Gaussian distributions, different mean and different variance\n",
        "2. "
      ]
    }
  ]
}